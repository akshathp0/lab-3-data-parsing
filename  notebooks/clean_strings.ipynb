{
 "cells": [
  {
   "cell_type": "code",
   "execution_count": null,
   "id": "aedddc98",
   "metadata": {},
   "outputs": [],
   "source": [
    "# task A\n",
    "\n",
    "import pandas as pd\n",
    "import string\n",
    "\n",
    "df = pd.read_csv('../data/messy_strings.csv')"
   ]
  },
  {
   "cell_type": "code",
   "execution_count": null,
   "id": "2b8305b4",
   "metadata": {},
   "outputs": [
    {
     "name": "stdout",
     "output_type": "stream",
     "text": [
      "0         bob\n",
      "1        dana\n",
      "2         eve\n",
      "3       alice\n",
      "4         bob\n",
      "5        dana\n",
      "6     charlie\n",
      "7       alice\n",
      "8       frank\n",
      "9         bob\n",
      "10        eve\n",
      "11       dana\n",
      "12        eve\n",
      "13    charlie\n",
      "14        eve\n",
      "15        bob\n",
      "16        eve\n",
      "17      frank\n",
      "18        eve\n",
      "19        eve\n",
      "20        bob\n",
      "21    charlie\n",
      "22    charlie\n",
      "23        eve\n",
      "24       dana\n",
      "25    charlie\n",
      "26      alice\n",
      "27        eve\n",
      "28       dana\n",
      "29      frank\n",
      "30    charlie\n",
      "31      alice\n",
      "32        bob\n",
      "33      frank\n",
      "34      alice\n",
      "35        bob\n",
      "36    charlie\n",
      "37        eve\n",
      "38    charlie\n",
      "39    charlie\n",
      "40       dana\n",
      "41       dana\n",
      "42       dana\n",
      "43    charlie\n",
      "44    charlie\n",
      "45        bob\n",
      "46        bob\n",
      "47        eve\n",
      "48    charlie\n",
      "49       dana\n",
      "Name: raw, dtype: object\n"
     ]
    }
   ],
   "source": [
    "# task B\n",
    "\n",
    "def clean_strings(strings):\n",
    "\n",
    "    \"\"\"\n",
    "    Reformats string to make lowercase, strip spaces, and remove punctuation\n",
    "    \"\"\"\n",
    "\n",
    "    strings = pd.Series(strings)\n",
    "    strings = strings.str.lower() # lowercase\n",
    "    strings = strings.str.strip() # strips spaces \n",
    "    strings = strings.str.replace(r'\\s+', '', regex = True)\n",
    "    strings = strings.str.replace(r'[^a-z\\s]', '', regex = True)\n",
    "\n",
    "    return(strings)"
   ]
  },
  {
   "cell_type": "code",
   "execution_count": 31,
   "id": "c0040ec9",
   "metadata": {},
   "outputs": [],
   "source": [
    "# task C:\n",
    "\n",
    "df['clean'] = clean_strings(df['raw'])"
   ]
  },
  {
   "cell_type": "code",
   "execution_count": 35,
   "id": "9029ba98",
   "metadata": {},
   "outputs": [
    {
     "name": "stdout",
     "output_type": "stream",
     "text": [
      "Total rows: 50\n",
      "Unique count: 6\n",
      "Most common string: clean\n",
      "charlie    12\n",
      "eve        11\n",
      "dana        9\n",
      "bob         9\n",
      "alice       5\n",
      "frank       4\n",
      "Name: count, dtype: int64\n"
     ]
    }
   ],
   "source": [
    "# task D:\n",
    "\n",
    "count = df['clean'].count()\n",
    "print(f\"Total rows: {count}\")\n",
    "\n",
    "uniqueCount = df['clean'].nunique()\n",
    "print(f\"Unique count: {uniqueCount}\")\n",
    "\n",
    "commonString = df['clean'].value_counts()\n",
    "print(f\"Most common string: {commonString}\")"
   ]
  },
  {
   "cell_type": "code",
   "execution_count": 37,
   "id": "f5e1ac89",
   "metadata": {},
   "outputs": [],
   "source": [
    "# task E:\n",
    "\n",
    "df.to_csv('../data/messy_strings_clean.csv', index = False)"
   ]
  }
 ],
 "metadata": {
  "kernelspec": {
   "display_name": "lab_3",
   "language": "python",
   "name": "python3"
  },
  "language_info": {
   "codemirror_mode": {
    "name": "ipython",
    "version": 3
   },
   "file_extension": ".py",
   "mimetype": "text/x-python",
   "name": "python",
   "nbconvert_exporter": "python",
   "pygments_lexer": "ipython3",
   "version": "3.13.5"
  }
 },
 "nbformat": 4,
 "nbformat_minor": 5
}
